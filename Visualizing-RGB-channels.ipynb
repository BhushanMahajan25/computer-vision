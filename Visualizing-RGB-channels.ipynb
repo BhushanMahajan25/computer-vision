{
 "metadata": {
  "language_info": {
   "codemirror_mode": {
    "name": "ipython",
    "version": 3
   },
   "file_extension": ".py",
   "mimetype": "text/x-python",
   "name": "python",
   "nbconvert_exporter": "python",
   "pygments_lexer": "ipython3",
   "version": "3.8.6-candidate"
  },
  "orig_nbformat": 2,
  "kernelspec": {
   "name": "python3",
   "display_name": "Python 3.8.6 64-bit ('venv')",
   "metadata": {
    "interpreter": {
     "hash": "0699fe7cd83869db4a906587d6c25e33d7ae8e502f9ae58aff44837e1f8cb8c6"
    }
   }
  }
 },
 "nbformat": 4,
 "nbformat_minor": 2,
 "cells": [
  {
   "cell_type": "code",
   "execution_count": 3,
   "metadata": {},
   "outputs": [],
   "source": [
    "import matplotlib.image as mpimg\n",
    "import matplotlib.pyplot as plt\n",
    "%matplotlib qt\n",
    "#%matplotlib inline"
   ]
  },
  {
   "cell_type": "code",
   "execution_count": 5,
   "metadata": {},
   "outputs": [
    {
     "output_type": "execute_result",
     "data": {
      "text/plain": [
       "<matplotlib.image.AxesImage at 0x1b6bb82ccd0>"
      ]
     },
     "metadata": {},
     "execution_count": 5
    }
   ],
   "source": [
    "image = mpimg.imread(r'CVND_Exercises-master\\1_1_Image_Representation\\images\\wa_state_highway.jpg')\n",
    "plt.imshow(image)"
   ]
  },
  {
   "cell_type": "code",
   "execution_count": 6,
   "metadata": {},
   "outputs": [
    {
     "output_type": "execute_result",
     "data": {
      "text/plain": [
       "<matplotlib.image.AxesImage at 0x1b6ba3cf160>"
      ]
     },
     "metadata": {},
     "execution_count": 6
    }
   ],
   "source": [
    "r = image[:,:,0]\n",
    "g = image[:,:,1]\n",
    "b = image[:,:,2]\n",
    "# Visualize the individual color channels\n",
    "f, (ax1, ax2, ax3) = plt.subplots(1, 3, figsize=(20,10))\n",
    "ax1.set_title('R channel')\n",
    "ax1.imshow(r, cmap='gray')\n",
    "ax2.set_title('G channel')\n",
    "ax2.imshow(g, cmap='gray')\n",
    "ax3.set_title('B channel')\n",
    "ax3.imshow(b, cmap='gray')"
   ]
  }
 ]
}