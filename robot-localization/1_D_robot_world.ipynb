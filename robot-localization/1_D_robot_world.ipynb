{
  "nbformat": 4,
  "nbformat_minor": 0,
  "metadata": {
    "colab": {
      "name": "1-D_robot_world.ipynb",
      "provenance": []
    },
    "kernelspec": {
      "name": "python3",
      "display_name": "Python 3"
    },
    "language_info": {
      "name": "python"
    }
  },
  "cells": [
    {
      "cell_type": "markdown",
      "metadata": {
        "id": "LX76JMb3Izls"
      },
      "source": [
        "# **Robot world 1-D**\n",
        "First, imagine you have a robot living in a 1-D world. You can think of a 1D world as a one-lane road. We can treat this road as an array, and break it up into grid cells for a robot to understand. In this case, the road is a 1D grid with 5 different spaces.(length of the array is 5) The robot can only move forwards or backwards. If the robot falls off the grid, it will loop back around to the other side (this is known as a cyclic world)."
      ]
    },
    {
      "cell_type": "markdown",
      "metadata": {
        "id": "t28VGycAMLyd"
      },
      "source": [
        "## **Uniform distribution**\n",
        "The robot has a map so that it knows there are only 5 spaces in this 1D world. However, it hasn't sensed anything or moved. For a length of 5 cells (a list of 5 values), what is the probability distribution, p, that the robot is in any one of these locations?\n",
        "\n",
        "Since the robot does not know where it is at first, the probability of being in any space is the same! This is a probability distribution and so the sum of all these probabilities should be equal to 1, so 1/5 spaces = 0.2. A distribution in which all the probabilities are the same (and we have maximum uncertainty) is called a uniform distribution."
      ]
    },
    {
      "cell_type": "code",
      "metadata": {
        "id": "BfrN3GgFISwG"
      },
      "source": [
        "import matplotlib.pyplot as plt\n",
        "import numpy as np"
      ],
      "execution_count": 2,
      "outputs": []
    },
    {
      "cell_type": "code",
      "metadata": {
        "colab": {
          "base_uri": "https://localhost:8080/"
        },
        "id": "-3klBTBLMlux",
        "outputId": "f367726d-24b4-4e03-e333-a155b382d588"
      },
      "source": [
        "# uniform distribution for 5 grid cells\n",
        "# we use \"p\" to represent probability\n",
        "p = [0.2, 0.2, 0.2, 0.2, 0.2]\n",
        "print(p)"
      ],
      "execution_count": 3,
      "outputs": [
        {
          "output_type": "stream",
          "text": [
            "[0.2, 0.2, 0.2, 0.2, 0.2]\n"
          ],
          "name": "stdout"
        }
      ]
    },
    {
      "cell_type": "code",
      "metadata": {
        "colab": {
          "base_uri": "https://localhost:8080/",
          "height": 295
        },
        "id": "wPpox9ZGM1Ok",
        "outputId": "7168bc40-94e5-4893-e3b6-c30e729c932e"
      },
      "source": [
        "def display_map(grid, bar_width=1):\n",
        "    if(len(grid) > 0):\n",
        "        x_labels = range(len(grid))\n",
        "        plt.bar(x_labels, height=grid, width=bar_width, color='b')\n",
        "        plt.xlabel('Grid Cell')\n",
        "        plt.ylabel('Probability')\n",
        "        plt.ylim(0, 1) # range of 0-1 for probability values \n",
        "        plt.title('Probability of the robot being at each cell in the grid')\n",
        "        plt.xticks(np.arange(min(x_labels), max(x_labels)+1, 1))\n",
        "        plt.show()\n",
        "    else:\n",
        "        print('Grid is empty')\n",
        "\n",
        "# call function on grid, p, from before\n",
        "display_map(p, 0.9)"
      ],
      "execution_count": 13,
      "outputs": [
        {
          "output_type": "display_data",
          "data": {
            "image/png": "[encoded data removed]",
            "text/plain": [
              "<Figure size 432x288 with 1 Axes>"
            ]
          },
          "metadata": {
            "tags": [],
            "needs_background": "light"
          }
        }
      ]
    },
    {
      "cell_type": "code",
      "metadata": {
        "id": "I-A1uthlbDhB"
      },
      "source": [
        "def initialize_robot(grid_length):\n",
        "    ''' Takes in a grid length and returns \n",
        "       a uniform distribution of location probabilities'''\n",
        "    p = []\n",
        "    # create a list that has the value of 1/grid_length for each cell\n",
        "    for i in range(grid_length):\n",
        "        p.append(1.0/grid_length)\n",
        "    return p"
      ],
      "execution_count": 14,
      "outputs": []
    },
    {
      "cell_type": "code",
      "metadata": {
        "colab": {
          "base_uri": "https://localhost:8080/",
          "height": 312
        },
        "id": "Hkk4aqomcv25",
        "outputId": "183949f3-f1a0-4fe9-e0c3-d971ea4c2c2e"
      },
      "source": [
        "p = initialize_robot(8)\n",
        "print(p)\n",
        "display_map(p,0.9)"
      ],
      "execution_count": 15,
      "outputs": [
        {
          "output_type": "stream",
          "text": [
            "[0.125, 0.125, 0.125, 0.125, 0.125, 0.125, 0.125, 0.125]\n"
          ],
          "name": "stdout"
        },
        {
          "output_type": "display_data",
          "data": {
            "image/png": "[encoded data removed]",
            "text/plain": [
              "<Figure size 432x288 with 1 Axes>"
            ]
          },
          "metadata": {
            "tags": [],
            "needs_background": "light"
          }
        }
      ]
    }
  ]
}