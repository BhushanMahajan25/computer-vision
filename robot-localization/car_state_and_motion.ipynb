{
  "nbformat": 4,
  "nbformat_minor": 0,
  "metadata": {
    "colab": {
      "name": "car-state-and-motion.ipynb",
      "provenance": [],
      "authorship_tag": "ABX9TyOU544J8eayEPizB++xPXsb"
    },
    "kernelspec": {
      "name": "python3",
      "display_name": "Python 3"
    },
    "language_info": {
      "name": "python"
    }
  },
  "cells": [
    {
      "cell_type": "markdown",
      "metadata": {
        "id": "izALcQMfDo90"
      },
      "source": [
        "This notebook contains code of representation of state and motion of a car in 2-D world\n",
        "\n",
        "---\n",
        "\n",
        "# Interacting with Car object"
      ]
    },
    {
      "cell_type": "code",
      "metadata": {
        "id": "8WvZGMV7GYzo"
      },
      "source": [
        "import matplotlib.pyplot as plt\n",
        "import numpy as np\n",
        "\n",
        "%matplotlib inline"
      ],
      "execution_count": 43,
      "outputs": []
    },
    {
      "cell_type": "code",
      "metadata": {
        "id": "sVKqzVAzDZNV"
      },
      "source": [
        "# car.py\n",
        "\n",
        "\"\"\" The Car class defines a car's movement and keeps track of its state.\n",
        "\n",
        "    The class includes init, move, and display functions.\n",
        "    This class assumes a constant velocity motion model and the state\n",
        "    of the car includes the car's position, and it's velocity.\n",
        "\n",
        "    Attributes:\n",
        "        state: A list of the car's current position [y, x] and velocity [vy, vx]\n",
        "        world: The world that the car is moving within (a 2D list of values that range from 0-1)\n",
        "\"\"\"\n",
        "\n",
        "class Car(object):\n",
        "    def __init__(self, position, velocity, world, color='r'):\n",
        "        \"\"\"Initializes Car with some position in form of [y, x], velocity in form of [vy, vx],\n",
        "            and a world to traverse.\"\"\"\n",
        "        self.state = [position, velocity]\n",
        "        self.world = world\n",
        "        \n",
        "        # Set the default color\n",
        "        self.color = color\n",
        "        \n",
        "        # Initalize the path\n",
        "        self.path = []\n",
        "        self.path.append(position)\n",
        "        \n",
        "    # Move function\n",
        "    def move(self, dt=1):\n",
        "        \"\"\" The move function moves the car in the direction of the velocity and \n",
        "            updates the state.\n",
        "            It assumes a circular world and a default dt = 1 (though dt can be any \n",
        "            non-negative integer).\n",
        "            \"\"\"\n",
        "        \n",
        "        height = len(self.world)\n",
        "        width = len(self.world[0])\n",
        "        \n",
        "        position = self.state[0]\n",
        "        velocity = self.state[1]\n",
        "\n",
        "        # Predict the new position [y, x] based on velocity [vx, vy] and time, dt\n",
        "        predicted_position = [\n",
        "            (position[0] + velocity[0]*dt) % height, # default dt = 1\n",
        "            (position[1] + velocity[1]*dt) % width\n",
        "        ]\n",
        "        \n",
        "        # Update the state\n",
        "        self.state = [predicted_position, velocity]\n",
        "        \n",
        "        # Every time the robot moves, add the new position to the path\n",
        "        self.path.append(predicted_position)\n",
        "        \n",
        "    \n",
        "    # Turn left function\n",
        "    def turn_left(self):\n",
        "        \"\"\" Turning left \"rotates\" the velocity values, so vy = -vx, and vx = vy.\n",
        "            For example, if a car is going right at 1 world cell/sec this means \n",
        "            vy = 0, vx = 1, \n",
        "            and if it turns left, then it should be moving upwards on the world grid \n",
        "            at the same speed! \n",
        "            And up is vy = -1 and vx = 0\n",
        "            \"\"\"\n",
        "        # Change the velocity\n",
        "        velocity = self.state[1]\n",
        "        predicted_velocity = [\n",
        "            -velocity[1],\n",
        "            velocity[0]\n",
        "        ]\n",
        "        # Update the state velocity\n",
        "        self.state[1] = predicted_velocity\n",
        "    \n",
        "    # Turn right function\n",
        "    def turn_right(self):\n",
        "        \"\"\" Turning right \"rotates\" the velocity values, so vy = vx, and vx = -vy.\n",
        "            For example, if a car is going right at 1 world cell/sec this means \n",
        "            vy = 0, vx = 1, \n",
        "            and if it turns right, then it should be moving downwards on the world grid \n",
        "            at the same speed! \n",
        "            And down is vy = 1 and vx = -0\n",
        "            \"\"\"\n",
        "        # Change the velocity\n",
        "        velocity = self.state[1]\n",
        "        predicted_velocity = [\n",
        "            velocity[1],\n",
        "            -velocity[0]\n",
        "        ]\n",
        "        # Update the state velocity\n",
        "        self.state[1] = predicted_velocity\n",
        "    \n",
        "    # Helper function for displaying the world + robot position\n",
        "    # Assumes the world in a 2D numpy array and position is in the form [y, x]\n",
        "    # path is a list of positions, and it's an optional argument\n",
        "    def display_world(self):\n",
        "        \n",
        "        # Store the current position of the car\n",
        "        position = self.state[0]\n",
        "        \n",
        "        # Plot grid of values + initial ticks\n",
        "        plt.matshow(self.world, cmap='gray')\n",
        "\n",
        "        # Set minor axes in between the labels\n",
        "        ax=plt.gca()\n",
        "        rows = len(self.world)\n",
        "        cols = len(self.world[0])\n",
        "\n",
        "        ax.set_xticks([x-0.5 for x in range(1,cols)],minor=True )\n",
        "        ax.set_yticks([y-0.5 for y in range(1,rows)],minor=True)\n",
        "\n",
        "        # Plot grid on minor axes in gray (width = 2)\n",
        "        plt.grid(which='minor',ls='-',lw=2, color='gray')\n",
        "\n",
        "        # Create a 'x' character that represents the car\n",
        "        # ha = horizontal alignment, va = verical\n",
        "        ax.text(position[1], position[0], 'x', ha='center', va='center', color=self.color, fontsize=25)\n",
        "            \n",
        "        # Draw path if it exists\n",
        "        if(len(self.path) > 1):\n",
        "            # loop through all path indices and draw a dot (unless it's at the car's location)\n",
        "            for pos in self.path:\n",
        "                if(pos != position):\n",
        "                    ax.text(pos[1], pos[0], '.', ha='center', va='baseline', color=self.color, fontsize=30)\n",
        "\n",
        "        # Display final result\n",
        "        plt.show()\n",
        "    \n",
        "    def print_state(self):\n",
        "        print(\"car\\'s current state and motion: \")\n",
        "        print(\"position:: [y, x] = [{}, {}]\".format(self.state[0][0], self.state[0][1]))\n",
        "        print(\"velocity:: [vy, vx] = [{}, {}]\".format(self.state[1][0], self.state[1][1]))\n"
      ],
      "execution_count": 80,
      "outputs": []
    },
    {
      "cell_type": "markdown",
      "metadata": {
        "id": "zlKBIFSbG0Yi"
      },
      "source": [
        "## Create a world and new car object"
      ]
    },
    {
      "cell_type": "code",
      "metadata": {
        "id": "N9NXVrHNGQNa"
      },
      "source": [
        "# create a 2-D world of 0's\n",
        "height = 6\n",
        "width = 6\n",
        "world = np.zeros((height, width))"
      ],
      "execution_count": 54,
      "outputs": []
    },
    {
      "cell_type": "code",
      "metadata": {
        "id": "o2nndHXlHMpR"
      },
      "source": [
        "# initialize the car state\n",
        "inital_position = [0,0] # [y, x]\n",
        "velocity = [0 ,1] # [vy, vx] (moving to the right)"
      ],
      "execution_count": 55,
      "outputs": []
    },
    {
      "cell_type": "code",
      "metadata": {
        "id": "TfZKkBsgHh1I"
      },
      "source": [
        "# create a car with initial params\n",
        "tesla = Car(inital_position, velocity, world)"
      ],
      "execution_count": 56,
      "outputs": []
    },
    {
      "cell_type": "code",
      "metadata": {
        "colab": {
          "base_uri": "https://localhost:8080/",
          "height": 275
        },
        "id": "7sW7qr2qHuWQ",
        "outputId": "5bc0d061-b09e-41eb-e736-8bb224fa51a0"
      },
      "source": [
        "tesla.display_world()"
      ],
      "execution_count": 57,
      "outputs": [
        {
          "output_type": "display_data",
          "data": {
            "image/png": "[encoded data removed]",
            "text/plain": [
              "<Figure size 288x288 with 1 Axes>"
            ]
          },
          "metadata": {
            "tags": [],
            "needs_background": "light"
          }
        }
      ]
    },
    {
      "cell_type": "code",
      "metadata": {
        "colab": {
          "base_uri": "https://localhost:8080/"
        },
        "id": "O7yuW1QXK7_z",
        "outputId": "b82a828e-4b51-4673-8ace-b89aa598978a"
      },
      "source": [
        "tesla.print_state()"
      ],
      "execution_count": 58,
      "outputs": [
        {
          "output_type": "stream",
          "text": [
            "car's current state and motion: \n",
            "position:: [y, x] = [0, 0]\n",
            "velocity:: [vy, vx] = [0, 1]\n"
          ],
          "name": "stdout"
        }
      ]
    },
    {
      "cell_type": "markdown",
      "metadata": {
        "id": "QSfXKYhnM_pX"
      },
      "source": [
        "## Move and track the state"
      ]
    },
    {
      "cell_type": "code",
      "metadata": {
        "colab": {
          "base_uri": "https://localhost:8080/",
          "height": 326
        },
        "id": "MTICkP7zMS_b",
        "outputId": "1dde4661-a205-40cf-bc62-7c28525bc75a"
      },
      "source": [
        "tesla.move()\n",
        "tesla.display_world()\n",
        "tesla.print_state()"
      ],
      "execution_count": 59,
      "outputs": [
        {
          "output_type": "display_data",
          "data": {
            "image/png": "[encoded data removed]",
            "text/plain": [
              "<Figure size 288x288 with 1 Axes>"
            ]
          },
          "metadata": {
            "tags": [],
            "needs_background": "light"
          }
        },
        {
          "output_type": "stream",
          "text": [
            "car's current state and motion: \n",
            "position:: [y, x] = [0, 1]\n",
            "velocity:: [vy, vx] = [0, 1]\n"
          ],
          "name": "stdout"
        }
      ]
    },
    {
      "cell_type": "code",
      "metadata": {
        "colab": {
          "base_uri": "https://localhost:8080/",
          "height": 326
        },
        "id": "ZTSMSo4ANK71",
        "outputId": "aa18efda-65b9-46c8-a91f-9ff3a75951e6"
      },
      "source": [
        "tesla.move()\n",
        "tesla.move()\n",
        "tesla.turn_left()\n",
        "tesla.move()\n",
        "tesla.display_world()\n",
        "tesla.print_state()"
      ],
      "execution_count": 60,
      "outputs": [
        {
          "output_type": "display_data",
          "data": {
            "image/png": "[encoded data removed]",
            "text/plain": [
              "<Figure size 288x288 with 1 Axes>"
            ]
          },
          "metadata": {
            "tags": [],
            "needs_background": "light"
          }
        },
        {
          "output_type": "stream",
          "text": [
            "car's current state and motion: \n",
            "position:: [y, x] = [5, 3]\n",
            "velocity:: [vy, vx] = [-1, 0]\n"
          ],
          "name": "stdout"
        }
      ]
    },
    {
      "cell_type": "markdown",
      "metadata": {
        "id": "cLS8J7LbOK9K"
      },
      "source": [
        "# Adding function turn_right()"
      ]
    },
    {
      "cell_type": "code",
      "metadata": {
        "colab": {
          "base_uri": "https://localhost:8080/",
          "height": 326
        },
        "id": "HDcCimeHNoyS",
        "outputId": "d8fdf4d8-80dc-4d6a-b20d-7ab08ede0c80"
      },
      "source": [
        "tesla = Car(inital_position, velocity, world)\n",
        "tesla.move()\n",
        "tesla.move()\n",
        "tesla.turn_right()\n",
        "tesla.move()\n",
        "tesla.move()\n",
        "tesla.display_world()\n",
        "tesla.print_state()"
      ],
      "execution_count": 81,
      "outputs": [
        {
          "output_type": "display_data",
          "data": {
            "image/png": "[encoded data removed]",
            "text/plain": [
              "<Figure size 288x288 with 1 Axes>"
            ]
          },
          "metadata": {
            "tags": [],
            "needs_background": "light"
          }
        },
        {
          "output_type": "stream",
          "text": [
            "car's current state and motion: \n",
            "position:: [y, x] = [2, 2]\n",
            "velocity:: [vy, vx] = [1, 0]\n"
          ],
          "name": "stdout"
        }
      ]
    },
    {
      "cell_type": "code",
      "metadata": {
        "colab": {
          "base_uri": "https://localhost:8080/",
          "height": 326
        },
        "id": "vWWrNVqcQO32",
        "outputId": "5d233ccf-dfca-4e8c-d5f9-8bc1c1a0aa6e"
      },
      "source": [
        "tesla.turn_right()\n",
        "tesla.move()\n",
        "tesla.move()\n",
        "tesla.turn_right()\n",
        "tesla.move()\n",
        "tesla.move()\n",
        "tesla.display_world()\n",
        "tesla.print_state()"
      ],
      "execution_count": 82,
      "outputs": [
        {
          "output_type": "display_data",
          "data": {
            "image/png": "[encoded data removed]",
            "text/plain": [
              "<Figure size 288x288 with 1 Axes>"
            ]
          },
          "metadata": {
            "tags": [],
            "needs_background": "light"
          }
        },
        {
          "output_type": "stream",
          "text": [
            "car's current state and motion: \n",
            "position:: [y, x] = [0, 0]\n",
            "velocity:: [vy, vx] = [-1, 0]\n"
          ],
          "name": "stdout"
        }
      ]
    },
    {
      "cell_type": "markdown",
      "metadata": {
        "id": "sI5ReaxZSVzi"
      },
      "source": [
        "# Adding another Car"
      ]
    },
    {
      "cell_type": "markdown",
      "metadata": {
        "id": "UusB38UaS1MG"
      },
      "source": [
        "Adding BMW with blue color, different initial position and velocity as same as tesla\n",
        "\n",
        "Color codes:\n",
        "\n",
        "* b: blue\n",
        "*g: green\n",
        "* r: red\n",
        "* c: cyan\n",
        "* m: magenta\n",
        "* y: yellow\n",
        "* k: black\n",
        "* w: white"
      ]
    },
    {
      "cell_type": "code",
      "metadata": {
        "id": "ikjzsN0yRWkH"
      },
      "source": [
        "bmw_inital_position = [0,5]\n",
        "bmw = Car(bmw_inital_position, velocity, world, 'b')"
      ],
      "execution_count": 85,
      "outputs": []
    },
    {
      "cell_type": "code",
      "metadata": {
        "colab": {
          "base_uri": "https://localhost:8080/",
          "height": 326
        },
        "id": "jHNPK8s0TtM4",
        "outputId": "8d3cd5fc-1fb8-4554-c07b-84c5b1f9b7ac"
      },
      "source": [
        "bmw.turn_right()\n",
        "bmw.move()\n",
        "bmw.move()\n",
        "bmw.display_world()\n",
        "bmw.print_state()"
      ],
      "execution_count": 86,
      "outputs": [
        {
          "output_type": "display_data",
          "data": {
            "image/png": "[encoded data removed]",
            "text/plain": [
              "<Figure size 288x288 with 1 Axes>"
            ]
          },
          "metadata": {
            "tags": [],
            "needs_background": "light"
          }
        },
        {
          "output_type": "stream",
          "text": [
            "car's current state and motion: \n",
            "position:: [y, x] = [2, 5]\n",
            "velocity:: [vy, vx] = [1, 0]\n"
          ],
          "name": "stdout"
        }
      ]
    },
    {
      "cell_type": "markdown",
      "metadata": {
        "id": "HZov5gxIWcmB"
      },
      "source": [
        "# Creating color background"
      ]
    },
    {
      "cell_type": "code",
      "metadata": {
        "id": "k8Kfp_jvT1AE"
      },
      "source": [
        "# color.py\n",
        "\n",
        "'''\n",
        "The color class creates a color from 3 values, r, g, and b (red, green, and blue).\n",
        "attributes:\n",
        "    r - a value between 0-255 for red\n",
        "    g - a value between 0-255 for green\n",
        "    b - a value between 0-255 for blue\n",
        "'''\n",
        "\n",
        "class Color(object):\n",
        "    def __init__(self, r, g, b):\n",
        "        self.r = r\n",
        "        self.g = g\n",
        "        self.b = b\n",
        "\n",
        "    def __repr__(self):\n",
        "        plt.imshow([[(self.r/255, self.g/255, self.b/255)]])\n",
        "        string = \"rgb = [{}, {}, {}]\".format(self.r, self.g, self.b)\n",
        "        return string\n",
        "\n",
        "    def __add__(self, other):\n",
        "        self.r += other.r\n",
        "        self.g += other.g\n",
        "        self.b += other.b\n",
        "        return Color(self.r, self.g, self.b)\n",
        "        "
      ],
      "execution_count": 113,
      "outputs": []
    },
    {
      "cell_type": "code",
      "metadata": {
        "colab": {
          "base_uri": "https://localhost:8080/",
          "height": 282
        },
        "id": "_ZpL4R1FY-8D",
        "outputId": "9c2e2fab-f546-4e89-a7bf-6c159a66e1de"
      },
      "source": [
        "test_color = Color(200, 0, 200)\n",
        "print(test_color)"
      ],
      "execution_count": 90,
      "outputs": [
        {
          "output_type": "stream",
          "text": [
            "rgb = [200, 0, 200]\n"
          ],
          "name": "stdout"
        },
        {
          "output_type": "display_data",
          "data": {
            "image/png": "[encoded data removed]",
            "text/plain": [
              "<Figure size 432x288 with 1 Axes>"
            ]
          },
          "metadata": {
            "tags": [],
            "needs_background": "light"
          }
        }
      ]
    },
    {
      "cell_type": "code",
      "metadata": {
        "colab": {
          "base_uri": "https://localhost:8080/",
          "height": 282
        },
        "id": "qc6dzgKkZJIe",
        "outputId": "af1f9025-1759-4994-e4db-4af9d3fd98e5"
      },
      "source": [
        "color1 = Color(250, 0, 0)\n",
        "print(color1)"
      ],
      "execution_count": 114,
      "outputs": [
        {
          "output_type": "stream",
          "text": [
            "rgb = [250, 0, 0]\n"
          ],
          "name": "stdout"
        },
        {
          "output_type": "display_data",
          "data": {
            "image/png": "[encoded data removed]",
            "text/plain": [
              "<Figure size 432x288 with 1 Axes>"
            ]
          },
          "metadata": {
            "tags": [],
            "needs_background": "light"
          }
        }
      ]
    },
    {
      "cell_type": "code",
      "metadata": {
        "colab": {
          "base_uri": "https://localhost:8080/",
          "height": 282
        },
        "id": "L5o5mvPXZawe",
        "outputId": "05024870-e979-4683-b956-6d73fc18462f"
      },
      "source": [
        "color2 = Color(0, 50, 200)\n",
        "print(color2)"
      ],
      "execution_count": 115,
      "outputs": [
        {
          "output_type": "stream",
          "text": [
            "rgb = [0, 50, 200]\n"
          ],
          "name": "stdout"
        },
        {
          "output_type": "display_data",
          "data": {
            "image/png": "[encoded data removed]",
            "text/plain": [
              "<Figure size 432x288 with 1 Axes>"
            ]
          },
          "metadata": {
            "tags": [],
            "needs_background": "light"
          }
        }
      ]
    },
    {
      "cell_type": "code",
      "metadata": {
        "colab": {
          "base_uri": "https://localhost:8080/",
          "height": 282
        },
        "id": "GvEeomHhZech",
        "outputId": "92f8c2bc-1e05-4e35-9357-eb5c4878741b"
      },
      "source": [
        "new_color = color1 + color2\n",
        "print(new_color)"
      ],
      "execution_count": 116,
      "outputs": [
        {
          "output_type": "stream",
          "text": [
            "rgb = [250, 50, 200]\n"
          ],
          "name": "stdout"
        },
        {
          "output_type": "display_data",
          "data": {
            "image/png": "[encoded data removed]",
            "text/plain": [
              "<Figure size 432x288 with 1 Axes>"
            ]
          },
          "metadata": {
            "tags": [],
            "needs_background": "light"
          }
        }
      ]
    },
    {
      "cell_type": "code",
      "metadata": {
        "id": "941CiJofbB7o"
      },
      "source": [
        ""
      ],
      "execution_count": null,
      "outputs": []
    }
  ]
}